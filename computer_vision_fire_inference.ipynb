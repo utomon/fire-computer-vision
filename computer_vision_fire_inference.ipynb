{
 "cells": [
  {
   "cell_type": "code",
   "execution_count": 12,
   "metadata": {},
   "outputs": [],
   "source": [
    "import tensorflow as tf\n",
    "from PIL import Image, ImageOps\n",
    "import numpy as np"
   ]
  },
  {
   "cell_type": "code",
   "execution_count": 52,
   "metadata": {},
   "outputs": [
    {
     "name": "stderr",
     "output_type": "stream",
     "text": [
      "WARNING:absl:Compiled the loaded model, but the compiled metrics have yet to be built. `model.compile_metrics` will be empty until you train or evaluate the model.\n"
     ]
    }
   ],
   "source": [
    "# Load the pretrained model\n",
    "\n",
    "model = tf.keras.models.load_model('/Users/david/Graded Challenge/phase 2/p2-ftds018-hck-g7-new-utomon/deployment/best_model.hdf5')\n"
   ]
  },
  {
   "cell_type": "code",
   "execution_count": 14,
   "metadata": {},
   "outputs": [],
   "source": [
    "# Preprocess the image\n",
    "def preprocess_image(image_path, target_size=(400, 400)):\n",
    "    image = Image.open(image_path)\n",
    "    image = ImageOps.fit(image, target_size, Image.Resampling.LANCZOS)\n",
    "    image = image.convert(\"RGB\") \n",
    "    image_array = np.asarray(image)\n",
    "    image_array = image_array / 255.0  # Normalize to [0, 1]\n",
    "    image_array = np.expand_dims(image_array, axis=0)  # Add batch dimension\n",
    "    return image_array"
   ]
  },
  {
   "cell_type": "code",
   "execution_count": 15,
   "metadata": {},
   "outputs": [],
   "source": [
    "# Perform inference\n",
    "def predict(model, preprocessed_image):\n",
    "    prediction = model.predict(preprocessed_image)\n",
    "    return prediction"
   ]
  },
  {
   "cell_type": "code",
   "execution_count": 48,
   "metadata": {},
   "outputs": [],
   "source": [
    "# Interpret the results\n",
    "def interpret_prediction(prediction, threshold=0.5):\n",
    "    # Apply sigmoid to get probabilities\n",
    "    prob = tf.nn.sigmoid(prediction[0])\n",
    "    \n",
    "    # 'fire' corresponds to class 0 and 'non-fire' to class 1\n",
    "    if prob > threshold:\n",
    "        return \"Non-Fire\", prob.numpy()[0]\n",
    "    else:\n",
    "        return \"Fire\", 1 - prob.numpy()[0]"
   ]
  },
  {
   "cell_type": "code",
   "execution_count": 53,
   "metadata": {},
   "outputs": [],
   "source": [
    "# Full inference pipeline\n",
    "def run_inference(image_path):\n",
    "    model = load_model('/Users/david/Graded Challenge/phase 2/p2-ftds018-hck-g7-new-utomon/deployment/best_model.hdf5')\n",
    "    preprocessed_image = preprocess_image(image_path)\n",
    "    prediction = predict(model, preprocessed_image)\n",
    "    class_name, confidence = interpret_prediction(prediction)\n",
    "    print(f\"The image is classified as {class_name} with a confidence of {confidence * 100:.2f}%.\")\n"
   ]
  },
  {
   "cell_type": "code",
   "execution_count": 56,
   "metadata": {},
   "outputs": [
    {
     "name": "stderr",
     "output_type": "stream",
     "text": [
      "WARNING:absl:Compiled the loaded model, but the compiled metrics have yet to be built. `model.compile_metrics` will be empty until you train or evaluate the model.\n"
     ]
    },
    {
     "name": "stdout",
     "output_type": "stream",
     "text": [
      "\u001b[1m1/1\u001b[0m \u001b[32m━━━━━━━━━━━━━━━━━━━━\u001b[0m\u001b[37m\u001b[0m \u001b[1m0s\u001b[0m 57ms/step\n",
      "The image is classified as Non-Fire with a confidence of 59.13%.\n"
     ]
    }
   ],
   "source": [
    "image = '/Users/david/Graded Challenge/phase 2/p2-ftds018-hck-g7-new-utomon/fire_dataset/non_fire_images/non_fire.3.png' \n",
    "run_inference(image)"
   ]
  }
 ],
 "metadata": {
  "kernelspec": {
   "display_name": "base",
   "language": "python",
   "name": "python3"
  },
  "language_info": {
   "codemirror_mode": {
    "name": "ipython",
    "version": 3
   },
   "file_extension": ".py",
   "mimetype": "text/x-python",
   "name": "python",
   "nbconvert_exporter": "python",
   "pygments_lexer": "ipython3",
   "version": "3.11.9"
  }
 },
 "nbformat": 4,
 "nbformat_minor": 2
}
